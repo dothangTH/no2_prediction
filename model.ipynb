{
  "nbformat": 4,
  "nbformat_minor": 0,
  "metadata": {
    "colab": {
      "name": "NO2 Predict",
      "provenance": [],
      "toc_visible": true,
      "mount_file_id": "1b2JXFRikCeVqAugrktZe-EIspUefyGbE",
      "authorship_tag": "ABX9TyM3jePPSoeSWrDXfFmcOMfx",
      "include_colab_link": true
    },
    "kernelspec": {
      "name": "python3",
      "display_name": "Python 3"
    },
    "language_info": {
      "name": "python"
    }
  },
  "cells": [
    {
      "cell_type": "markdown",
      "metadata": {
        "id": "view-in-github",
        "colab_type": "text"
      },
      "source": [
        "<a href=\"https://colab.research.google.com/github/dothangTH/no2_prediction/blob/main/model.ipynb\" target=\"_parent\"><img src=\"https://colab.research.google.com/assets/colab-badge.svg\" alt=\"Open In Colab\"/></a>"
      ]
    },
    {
      "cell_type": "code",
      "metadata": {
        "id": "bq3wUN_0ktyL"
      },
      "source": [
        "import pandas as pd\n",
        "import numpy as np\n",
        "from google.colab import drive\n",
        "from sklearn.model_selection import train_test_split\n",
        "from sklearn.svm import SVR\n",
        "from sklearn.metrics import accuracy_score\n",
        "from sklearn.model_selection import KFold\n",
        "import math\n",
        "from sklearn.model_selection import GridSearchCV\n",
        "from sklearn.metrics import mean_squared_error\n",
        "import matplotlib.pyplot as plt\n",
        "from sklearn.preprocessing import StandardScaler, MinMaxScaler"
      ],
      "execution_count": 244,
      "outputs": []
    },
    {
      "cell_type": "markdown",
      "metadata": {
        "id": "a16wgtxPRMQn"
      },
      "source": [
        "Define path to the data containing folder"
      ]
    },
    {
      "cell_type": "code",
      "metadata": {
        "id": "vd2dmkhJQE6A"
      },
      "source": [
        "DIR = '/content/drive/MyDrive/CVDHD_data/'"
      ],
      "execution_count": 245,
      "outputs": []
    },
    {
      "cell_type": "markdown",
      "metadata": {
        "id": "XqqpdLaJksUJ"
      },
      "source": [
        "#Train *1st* model\n",
        "1st model use to predict data without temporal_NO2 feature"
      ]
    },
    {
      "cell_type": "markdown",
      "metadata": {
        "id": "luLVyK8SQuPw"
      },
      "source": [
        "Load train.csv, drop NaN values"
      ]
    },
    {
      "cell_type": "code",
      "metadata": {
        "id": "Y6O74YVekZ-B"
      },
      "source": [
        "train_df = pd.read_csv(DIR + 'train.csv')\n",
        "train_df.dropna(subset=['NO2', 'population_dens'], inplace=True)"
      ],
      "execution_count": 246,
      "outputs": []
    },
    {
      "cell_type": "markdown",
      "metadata": {
        "id": "0wLfr4nXQ8QS"
      },
      "source": [
        "Filter outliers"
      ]
    },
    {
      "cell_type": "code",
      "metadata": {
        "id": "ZJm5-6wJlTMp"
      },
      "source": [
        "q99 = np.quantile(train_df['NO2'].values, 0.99)\n",
        "q01 = np.quantile(train_df['NO2'].values, 0.01)\n",
        "train_df.drop(train_df[train_df['NO2'] >= q99].index, inplace=True)\n",
        "train_df.drop(train_df[train_df['NO2'] <= q01].index, inplace=True)"
      ],
      "execution_count": 247,
      "outputs": []
    },
    {
      "cell_type": "markdown",
      "metadata": {
        "id": "3nlx4AUgRA4n"
      },
      "source": [
        "Fill satellite_NO2 NaN value with median value (not used in model)"
      ]
    },
    {
      "cell_type": "code",
      "metadata": {
        "id": "nAWzswKwlV_G"
      },
      "source": [
        "# is_nan = train_df.isna()['satellite_NO2']\n",
        "\n",
        "# for name in train_df['name'].unique():\n",
        "#     for index, row in train_df.loc[train_df['name'] == name].iterrows():\n",
        "#         if is_nan[index]:\n",
        "#             train_df.loc[index, 'satellite_NO2'] = train_df.loc[train_df['name'] == name]['satellite_NO2'].median(skipna=True)"
      ],
      "execution_count": 248,
      "outputs": []
    },
    {
      "cell_type": "markdown",
      "metadata": {
        "id": "O4Nc60OFRd-A"
      },
      "source": [
        "Calculate temporal_NO2 used for 2nd model training"
      ]
    },
    {
      "cell_type": "code",
      "metadata": {
        "id": "8XqXDVfon0qU"
      },
      "source": [
        "train_df = train_df.reset_index(drop=True)\n",
        "\n",
        "for name in train_df['name'].unique():\n",
        "    first_idx = train_df.loc[train_df['name'] == name].head().index[0]\n",
        "    for index, row in train_df.loc[train_df['name'] == name].iterrows():\n",
        "        if index == first_idx:\n",
        "            train_df.loc[index, 'NO2_temporal'] = row['NO2']\n",
        "        else:\n",
        "            numerator = 0\n",
        "            denominator = 0\n",
        "            for i in range(max(-3, first_idx - index), 0):\n",
        "                numerator += train_df.loc[index + i]['NO2'] * (1 / i**2)\n",
        "                denominator += 1 / i**2\n",
        "            train_df.loc[index, 'NO2_temporal'] = round(numerator / denominator, 10)"
      ],
      "execution_count": 249,
      "outputs": []
    },
    {
      "cell_type": "markdown",
      "metadata": {
        "id": "DNyt84UwRiY5"
      },
      "source": [
        "Defined X_train, y_train"
      ]
    },
    {
      "cell_type": "code",
      "metadata": {
        "id": "qjm-ArfPoC4j"
      },
      "source": [
        "y_train = train_df['NO2']\n",
        "X_train = train_df.drop(['NO2', 'time','lon', 'lat', 'name', 'satellite_NO2', 'NO2_temporal'], 1)"
      ],
      "execution_count": 250,
      "outputs": []
    },
    {
      "cell_type": "markdown",
      "metadata": {
        "id": "6N26jVEvRnPv"
      },
      "source": [
        "Scaling data"
      ]
    },
    {
      "cell_type": "code",
      "metadata": {
        "id": "FqB-M3P_qnEV"
      },
      "source": [
        "scaler_1st = StandardScaler()\n",
        "scaler_1st.fit(X_train)\n",
        "X_train = pd.DataFrame(scaler_1st.transform(X_train), columns=X_train.columns)"
      ],
      "execution_count": 251,
      "outputs": []
    },
    {
      "cell_type": "markdown",
      "metadata": {
        "id": "VY0jSDQ7RsGD"
      },
      "source": [
        "Train 1st model"
      ]
    },
    {
      "cell_type": "code",
      "metadata": {
        "colab": {
          "base_uri": "https://localhost:8080/"
        },
        "id": "CmZ0N0mwoMk1",
        "outputId": "08d369e1-100b-4fa5-df29-ee8a16e39759"
      },
      "source": [
        "num_folds = 4\n",
        "kfold = KFold(n_splits=num_folds, shuffle=True)\n",
        "\n",
        "\n",
        "fold_idx = 1\n",
        "\n",
        "for train_ids, val_ids in kfold.split(X_train, y_train):\n",
        "\n",
        "  model_1st = SVR(kernel='rbf', C=10, epsilon=0.1, gamma='scale')\n",
        "  \n",
        "  print(\"Bắt đầu train Fold \", fold_idx)\n",
        "\n",
        "  # Train model\n",
        "  model_1st.fit(X_train.iloc[train_ids], y_train.iloc[train_ids])\n",
        "\n",
        "  # Test và in kết quả\n",
        "  y_pred = model_1st.predict(X_train.iloc[val_ids])\n",
        "  y_test = y_train.iloc[val_ids].to_numpy()\n",
        "\n",
        "  scores = (mean_squared_error(y_test, y_pred, squared=False))\n",
        "\n",
        "  print(\"Score:\", scores)\n",
        "  # Sang Fold tiếp theo\n",
        "  fold_idx = fold_idx + 1"
      ],
      "execution_count": 252,
      "outputs": [
        {
          "output_type": "stream",
          "text": [
            "Bắt đầu train Fold  1\n",
            "Score: 9.825786924200221\n",
            "Bắt đầu train Fold  2\n",
            "Score: 9.74033056047768\n",
            "Bắt đầu train Fold  3\n",
            "Score: 9.81119679789094\n",
            "Bắt đầu train Fold  4\n",
            "Score: 9.968274034935948\n"
          ],
          "name": "stdout"
        }
      ]
    },
    {
      "cell_type": "markdown",
      "metadata": {
        "id": "cW_xxKHrndNn"
      },
      "source": [
        "#Train *2nd* model"
      ]
    },
    {
      "cell_type": "markdown",
      "metadata": {
        "id": "TSNc9kDRRvQQ"
      },
      "source": [
        "Define X_train, y_train"
      ]
    },
    {
      "cell_type": "code",
      "metadata": {
        "id": "BKWRzKl_ljXV"
      },
      "source": [
        "y_train = train_df['NO2']\n",
        "X_train = train_df.drop(['NO2', 'time','lon', 'lat', 'name', 'satellite_NO2'], 1)"
      ],
      "execution_count": 253,
      "outputs": []
    },
    {
      "cell_type": "markdown",
      "metadata": {
        "id": "hlehywsVRyZP"
      },
      "source": [
        "scaling data"
      ]
    },
    {
      "cell_type": "code",
      "metadata": {
        "id": "nLLqT896pxs4"
      },
      "source": [
        "scaler_2nd = StandardScaler()\n",
        "scaler_2nd.fit(X_train)\n",
        "X_train = pd.DataFrame(scaler_2nd.transform(X_train), columns=X_train.columns)"
      ],
      "execution_count": 254,
      "outputs": []
    },
    {
      "cell_type": "markdown",
      "metadata": {
        "id": "7Kkv5E6vR3sD"
      },
      "source": [
        "Train 2nd model"
      ]
    },
    {
      "cell_type": "code",
      "metadata": {
        "colab": {
          "base_uri": "https://localhost:8080/"
        },
        "id": "s22RIWoQlnY7",
        "outputId": "fb605fbd-78ec-45c5-b2f2-c0ae9df6a8bb"
      },
      "source": [
        "num_folds = 4\n",
        "kfold = KFold(n_splits=num_folds, shuffle=True)\n",
        "\n",
        "\n",
        "fold_idx = 1\n",
        "\n",
        "for train_ids, val_ids in kfold.split(X_train, y_train):\n",
        "\n",
        "  model_2nd = SVR(kernel='rbf', C=10, epsilon=0.1, gamma='scale')\n",
        "  \n",
        "  print(\"Bắt đầu train Fold \", fold_idx)\n",
        "\n",
        "  # Train model\n",
        "  model_2nd.fit(X_train.iloc[train_ids], y_train.iloc[train_ids])\n",
        "\n",
        "  # Test và in kết quả\n",
        "  y_pred = model_2nd.predict(X_train.iloc[val_ids])\n",
        "  y_test = y_train.iloc[val_ids].to_numpy()\n",
        "\n",
        "  scores = (mean_squared_error(y_test, y_pred, squared=False))\n",
        "\n",
        "  print(\"Score:\", scores)\n",
        "  # Sang Fold tiếp theo\n",
        "  fold_idx = fold_idx + 1"
      ],
      "execution_count": 255,
      "outputs": [
        {
          "output_type": "stream",
          "text": [
            "Bắt đầu train Fold  1\n",
            "Score: 6.925644981122268\n",
            "Bắt đầu train Fold  2\n",
            "Score: 6.979116134934777\n",
            "Bắt đầu train Fold  3\n",
            "Score: 6.966975453395968\n",
            "Bắt đầu train Fold  4\n",
            "Score: 6.739214675324632\n"
          ],
          "name": "stdout"
        }
      ]
    },
    {
      "cell_type": "markdown",
      "metadata": {
        "id": "YxkSKnh7R6bV"
      },
      "source": [
        "Plot function: Use to plot correlation between *feature* and *NO2*"
      ]
    },
    {
      "cell_type": "code",
      "metadata": {
        "id": "hzgtQ-xyX1yL"
      },
      "source": [
        "def plot_pair_grid(feature, name = None, X=train_df):\n",
        "    if name is not None:\n",
        "      fig, ax = plt.subplots(figsize=(16, 8 ))\n",
        "      ax.set_xlabel(feature)\n",
        "      ax.set_ylabel('NO2')\n",
        "      plt.title('{} - NO2 correlation (Station: {})'.format(feature, name), color='r')\n",
        "      plt.scatter(x = X.loc[X['name'] == name][feature], y = X.loc[X['name'] == name]['NO2'])\n",
        "    else:\n",
        "      fig, ax = plt.subplots(figsize=(16, 8 ))\n",
        "      ax.set_xlabel(feature)\n",
        "      ax.set_ylabel('NO2')\n",
        "      plt.title('{} - NO2 correlation'.format(feature), color='r')\n",
        "      plt.scatter(x = X[feature], y = X['NO2'])"
      ],
      "execution_count": 256,
      "outputs": []
    },
    {
      "cell_type": "markdown",
      "metadata": {
        "id": "ZbHBO8UYsa6A"
      },
      "source": [
        "#Predict"
      ]
    },
    {
      "cell_type": "markdown",
      "metadata": {
        "id": "ezMulZD9T5n-"
      },
      "source": [
        "This code will generate new .csv files in process"
      ]
    },
    {
      "cell_type": "markdown",
      "metadata": {
        "id": "96jYTMRCSUUZ"
      },
      "source": [
        "In this code we just predict first 4 days of a random month"
      ]
    },
    {
      "cell_type": "markdown",
      "metadata": {
        "id": "kxlNe-49SLLb"
      },
      "source": [
        "Define which month to generate data"
      ]
    },
    {
      "cell_type": "code",
      "metadata": {
        "id": "HvTedVdXFKkW"
      },
      "source": [
        "MONTH = '10'"
      ],
      "execution_count": 266,
      "outputs": []
    },
    {
      "cell_type": "markdown",
      "metadata": {
        "id": "2qPUodzQSSWj"
      },
      "source": [
        "Predict 1st day (without temporal_NO2)"
      ]
    },
    {
      "cell_type": "code",
      "metadata": {
        "id": "vJIfJspHamVb"
      },
      "source": [
        "df = pd.read_csv(DIR + '2019' + MONTH + '01.csv').drop(['Unnamed: 0'], 1)\n",
        "test_df = pd.DataFrame(data=df)\n",
        "\n",
        "test_df = test_df[['TEMP', 'RH', 'HPBL', 'PRESSURE',\n",
        "       'WINDSPEED', 'water', 'agri', 'urban', 'forest',\n",
        "       'road_dens', 'population_dens', 'dew_point']]\n",
        "\n",
        "for col in test_df.columns:\n",
        "  test_df.drop(test_df[test_df[col] == -9999].index, inplace=True)\n",
        "\n",
        "test_df = test_df.dropna()\n",
        "\n",
        "for col in test_df.columns:\n",
        "  test_df.drop(test_df[test_df[col] == -9999].index, inplace=True)\n",
        "\n",
        "test_df = test_df.dropna()\n",
        "\n",
        "test_df = pd.DataFrame(scaler_1st.transform(test_df), columns = test_df.columns, index=test_df.index)\n",
        "\n",
        "predict = model_1st.predict(test_df)\n",
        "test_df['pred'] = predict\n",
        "\n",
        "for index, row in test_df.iterrows():\n",
        "    df.loc[index, 'pred'] = row['pred']\n",
        "\n",
        "df = df[['lat', 'lon', 'pred']]\n",
        "\n",
        "df.to_csv('2019' + MONTH + '01.csv')"
      ],
      "execution_count": 267,
      "outputs": []
    },
    {
      "cell_type": "markdown",
      "metadata": {
        "id": "8ArltmFgSiyD"
      },
      "source": [
        "Predict 2nd, 3rd and 4th day (with temporal_NO2)"
      ]
    },
    {
      "cell_type": "code",
      "metadata": {
        "colab": {
          "base_uri": "https://localhost:8080/"
        },
        "id": "a_uiywD21GYj",
        "outputId": "98653998-e378-4b62-bb01-60e12487f439"
      },
      "source": [
        "DAY = ['02', '03', '04']\n",
        "\n",
        "for day in DAY:\n",
        "    prev_dfs = []\n",
        "    prev_dfs_na = []\n",
        "    df = pd.read_csv(DIR + '2019' + MONTH + day +'.csv').drop(['Unnamed: 0'], 1)\n",
        "    test_df = pd.DataFrame(data=df)\n",
        "\n",
        "    for col in test_df.columns:\n",
        "      test_df.drop(test_df[test_df[col] == -9999].index, inplace=True)\n",
        "\n",
        "    test_df = test_df[['TEMP', 'RH', 'HPBL', 'PRESSURE',\n",
        "          'WINDSPEED', 'water', 'agri', 'urban', 'forest',\n",
        "          'road_dens', 'population_dens', 'dew_point']]\n",
        "\n",
        "    for i in range(1, int(day)):\n",
        "        temp = pd.read_csv('2019' + MONTH + str(i).zfill(2) + '.csv')\n",
        "        prev_dfs.append(temp)\n",
        "        prev_dfs_na.append(temp.isna())\n",
        "\n",
        "    #Calculating temporal_NO2\n",
        "    for index, row in test_df.iterrows():\n",
        "        numerator = 0\n",
        "        denominator = 0\n",
        "        for i in range(len(prev_dfs)):\n",
        "            if not prev_dfs_na[i].loc[index, 'pred']:\n",
        "                denominator += 1 / (len(prev_dfs) - i) ** 2\n",
        "                numerator += prev_dfs[i].loc[index, 'pred'] / (len(prev_dfs) - i) ** 2\n",
        "            \n",
        "        try:\n",
        "            test_df.loc[index, 'temporal_NO2'] = round(numerator / denominator, 10)\n",
        "        except:\n",
        "            test_df.loc[index, 'temporal_NO2'] = np.nan\n",
        "\n",
        "\n",
        "\n",
        "    test_df = test_df.dropna()\n",
        "\n",
        "    test_df = pd.DataFrame(scaler_2nd.transform(test_df), columns = test_df.columns, index=test_df.index)\n",
        "    predict = model_2nd.predict(test_df)\n",
        "    test_df['pred'] = predict\n",
        "\n",
        "    for index, row in test_df.iterrows():\n",
        "        df.loc[index, 'pred'] = row['pred']\n",
        "        \n",
        "    df = df[['lat', 'lon', 'pred']]\n",
        "\n",
        "    df.to_csv('2019' + MONTH + day + '.csv')\n",
        "    print('day: {}    month: {}'.format(day, MONTH))"
      ],
      "execution_count": 268,
      "outputs": [
        {
          "output_type": "stream",
          "text": [
            "day: 02    month: 10\n",
            "day: 03    month: 10\n",
            "day: 04    month: 10\n"
          ],
          "name": "stdout"
        }
      ]
    }
  ]
}