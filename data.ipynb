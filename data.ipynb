{
  "nbformat": 4,
  "nbformat_minor": 5,
  "metadata": {
    "kernelspec": {
      "display_name": "Python 3",
      "language": "python",
      "name": "python3"
    },
    "language_info": {
      "codemirror_mode": {
        "name": "ipython",
        "version": 3
      },
      "file_extension": ".py",
      "mimetype": "text/x-python",
      "name": "python",
      "nbconvert_exporter": "python",
      "pygments_lexer": "ipython3",
      "version": "3.7.10"
    },
    "colab": {
      "name": "NO2 data",
      "provenance": [],
      "collapsed_sections": [],
      "toc_visible": true,
      "include_colab_link": true
    }
  },
  "cells": [
    {
      "cell_type": "markdown",
      "metadata": {
        "id": "view-in-github",
        "colab_type": "text"
      },
      "source": [
        "<a href=\"https://colab.research.google.com/github/dothangTH/no2_prediction/blob/main/data.ipynb\" target=\"_parent\"><img src=\"https://colab.research.google.com/assets/colab-badge.svg\" alt=\"Open In Colab\"/></a>"
      ]
    },
    {
      "cell_type": "code",
      "metadata": {
        "id": "46143a1b"
      },
      "source": [
        "import os \n",
        "from osgeo import gdal  \n",
        "import math \n",
        "import numpy as np\n",
        "import pandas as pd"
      ],
      "id": "46143a1b",
      "execution_count": null,
      "outputs": []
    },
    {
      "cell_type": "code",
      "metadata": {
        "colab": {
          "base_uri": "https://localhost:8080/"
        },
        "id": "qtjLIeejaa4o",
        "outputId": "f713cfb3-f44d-4878-ebec-446c1e37af53"
      },
      "source": [
        "from google.colab import drive\n",
        "drive.mount('/content/drive')"
      ],
      "id": "qtjLIeejaa4o",
      "execution_count": null,
      "outputs": [
        {
          "output_type": "stream",
          "text": [
            "Drive already mounted at /content/drive; to attempt to forcibly remount, call drive.mount(\"/content/drive\", force_remount=True).\n"
          ],
          "name": "stdout"
        }
      ]
    },
    {
      "cell_type": "code",
      "metadata": {
        "id": "417ace1f-b74c-41e3-a03b-ca7ba53a08d2"
      },
      "source": [
        "def truncate(f, n):\n",
        "        return math.floor(f * 10 ** n) / 10 ** n \n",
        "    \n",
        "def percentage(part, whole):\n",
        "      return part/whole"
      ],
      "id": "417ace1f-b74c-41e3-a03b-ca7ba53a08d2",
      "execution_count": null,
      "outputs": []
    },
    {
      "cell_type": "markdown",
      "metadata": {
        "id": "nUlTUPNf09hB"
      },
      "source": [
        "#GEN FEATURE != SEN5P & LANDCOVER"
      ],
      "id": "nUlTUPNf09hB"
    },
    {
      "cell_type": "markdown",
      "metadata": {
        "id": "HtXZiWGj4aVv"
      },
      "source": [
        "###Define DIR, DATE, features"
      ],
      "id": "HtXZiWGj4aVv"
    },
    {
      "cell_type": "code",
      "metadata": {
        "id": "AcRsWBqq4T7x"
      },
      "source": [
        "DIR = '/content/drive/MyDrive/data_cvd/'\n",
        "DATE = '20190301'\n",
        "features = ['HPBL', 'PRESSURE', 'RH', 'TEMP', 'WINDSPEED', 'dew_point_01', 'dew_point_02', 'dew_point_03', 'dew_point_04', 'population_dens', 'road_dens']"
      ],
      "id": "AcRsWBqq4T7x",
      "execution_count": null,
      "outputs": []
    },
    {
      "cell_type": "markdown",
      "metadata": {
        "id": "UoidUlXh8VVr"
      },
      "source": [
        "<p>Đặt tên ảnh đúng định dạng: feature + '_' + DATE</p>\n",
        "<p>DATE: %Y%m%d  (eg. 20190101)</p>"
      ],
      "id": "UoidUlXh8VVr"
    },
    {
      "cell_type": "markdown",
      "metadata": {
        "id": "aiXoc8yd4mAl"
      },
      "source": [
        "###Gen"
      ],
      "id": "aiXoc8yd4mAl"
    },
    {
      "cell_type": "code",
      "metadata": {
        "id": "dQu04dcaACOb"
      },
      "source": [
        "\n",
        "for feature in features:\n",
        "  df = None\n",
        "  df = pd.DataFrame()\n",
        "  PATH = DIR + feature + '_' + DATE + '.tif'\n",
        "  ds = gdal.Open(PATH, gdal.GA_ReadOnly)\n",
        "\n",
        "  band = ds.GetRasterBand(1)\n",
        "      \n",
        "  cols = ds.RasterXSize\n",
        "  rows = ds.RasterYSize\n",
        "\n",
        "  transform = ds.GetGeoTransform()  \n",
        "\n",
        "  xOrigin = transform[0]\n",
        "  yOrigin = transform[3]\n",
        "  pixelWidth = transform[1]\n",
        "  pixelHeight = transform[5] \n",
        "\n",
        "  data = band.ReadAsArray(0, 0, cols, rows) \n",
        "      \n",
        "  for i in range(cols):\n",
        "      for j in range(rows):\n",
        "          lon = x = round(xOrigin + i * pixelWidth, 3)\n",
        "          lat = y = round(yOrigin + j * pixelHeight, 3)\n",
        "          df = df.append({'lon': lon, 'lat': lat, feature: truncate(data[j][i], 10)}, ignore_index=True)\n",
        "      print('{}: {} / {}'.format(feature, i ,cols))\n",
        "\n",
        "  df.to_csv(feature + '_' + DATE + '.csv')"
      ],
      "id": "dQu04dcaACOb",
      "execution_count": null,
      "outputs": []
    },
    {
      "cell_type": "markdown",
      "metadata": {
        "id": "12AsOF1F1HJt"
      },
      "source": [
        "#GEN LANDCOVER"
      ],
      "id": "12AsOF1F1HJt"
    },
    {
      "cell_type": "code",
      "metadata": {
        "id": "61a6cea0"
      },
      "source": [
        "# #Landcover data extracting\n",
        "\n",
        "# PATH = '/content/drive/MyDrive/data_cvdhd/LandCover2019.tif'\n",
        "\n",
        "\n",
        "\n",
        "# # df = pd.read_csv('HPBL.csv')\n",
        "# # data_path = 'temperature/1/TMPCombine_20190101.tif' #đường dẫn tới file data\n",
        "# ds = gdal.Open(PATH, gdal.GA_ReadOnly)\n",
        "\n",
        "# band = ds.GetRasterBand(1)\n",
        "    \n",
        "# cols = ds.RasterXSize\n",
        "# rows = ds.RasterYSize\n",
        "\n",
        "# transform = ds.GetGeoTransform()  \n",
        "\n",
        "# # xOrigin = transform[0]\n",
        "# # yOrigin = transform[3]\n",
        "# # pixelWidth = transform[1]\n",
        "# # pixelHeight = transform[5] \n",
        "\n",
        "# xOrigin = 100.085348222534\n",
        "# yOrigin = 25.7598225680898\n",
        "# pixelWidth = 0.02694945852\n",
        "# pixelHeight = -0.02590779389\n",
        "\n",
        "# data = band.ReadAsArray(0, 0, cols, rows) \n",
        "\n",
        "# for index, row in df.iterrows():\n",
        "#   print('{} / {}'.format(index, len(df)))\n",
        "#   x = int((row['lon'] - xOrigin) / pixelWidth)\n",
        "#   y = int((row['lat'] - yOrigin) / pixelHeight)\n",
        "#   if x < cols and y < rows:\n",
        "#     water = 0\n",
        "#     agri = 0\n",
        "#     urban = 0\n",
        "#     forest = 0\n",
        "#     count = 0\n",
        "  \n",
        "\n",
        "#     for i in range(max(-20, -x), min(20, cols - x - 1)):\n",
        "#       for j in range(max(-20, -y), min(20, rows - y - 1)):\n",
        "#           cla = data[y + j][x + i]\n",
        "\n",
        "#           if cla == 80 or cla == 90:\n",
        "#             water += 1\n",
        "#           elif cla == 40:\n",
        "#             agri += 1\n",
        "#           elif cla == 50:\n",
        "#             urban += 1\n",
        "#           elif cla in range(111, 126):\n",
        "#             forest += 1\n",
        "\n",
        "#           count += 1\n",
        "    \n",
        "#     row['water'] = round(water / count, 10)\n",
        "#     row['agri'] = round(agri / count, 10)\n",
        "#     row['urban'] = round(urban / count, 10)\n",
        "#     row['forest'] = round(forest / count, 10)  \n",
        "  \n",
        "#   else:\n",
        "#     row['water'] = -9999\n",
        "#     row['agri'] = -9999\n",
        "#     row['urban'] = -9999\n",
        "#     row['forest'] = -9999\n",
        "      "
      ],
      "id": "61a6cea0",
      "execution_count": null,
      "outputs": []
    },
    {
      "cell_type": "markdown",
      "metadata": {
        "id": "B1wObMAW1LOy"
      },
      "source": [
        "#Mean dew_point"
      ],
      "id": "B1wObMAW1LOy"
    },
    {
      "cell_type": "code",
      "metadata": {
        "id": "86EAPnGdinxp"
      },
      "source": [
        "df = pd.read_csv('dew_point_01_' + DATE + '.csv')\n",
        "dp1 = df['dew_point_01'].values\n",
        "\n",
        "df = pd.read_csv('dew_point_02_' + DATE + '.csv')\n",
        "dp2 = df['dew_point_02'].values\n",
        "\n",
        "df = pd.read_csv('dew_point_03_' + DATE + '.csv')\n",
        "dp3 = df['dew_point_03'].values\n",
        "\n",
        "df = pd.read_csv('dew_point_04_' + DATE + '.csv')\n",
        "dp4 = df['dew_point_04'].values"
      ],
      "id": "86EAPnGdinxp",
      "execution_count": null,
      "outputs": []
    },
    {
      "cell_type": "code",
      "metadata": {
        "id": "FIbpswQDvIi2"
      },
      "source": [
        "def mean_dew_point(dp1, dp2, dp3, dp4):\n",
        "  result = []\n",
        "\n",
        "  for i in range(len(dp1)):\n",
        "    count = 0\n",
        "    sum = 0\n",
        "\n",
        "    if dp1[i] != -9999:\n",
        "      count += 1\n",
        "      sum += dp1[i]\n",
        "    \n",
        "    if dp2[i] != -9999:\n",
        "      count += 1\n",
        "      sum += dp2[i]\n",
        "\n",
        "    if dp3[i] != -9999:\n",
        "      count += 1\n",
        "      sum += dp3[i]\n",
        "\n",
        "    if dp4[i] != -9999:\n",
        "      count += 1\n",
        "      sum += dp4[i]\n",
        "\n",
        "    if count == 0:\n",
        "      result.append(-9999)\n",
        "    else:\n",
        "      result.append(round(sum / count, 10))\n",
        "\n",
        "  return result"
      ],
      "id": "FIbpswQDvIi2",
      "execution_count": null,
      "outputs": []
    },
    {
      "cell_type": "markdown",
      "metadata": {
        "id": "zl25ct0b1VEO"
      },
      "source": [
        "### To dew_point.csv"
      ],
      "id": "zl25ct0b1VEO"
    },
    {
      "cell_type": "code",
      "metadata": {
        "id": "eyzv0HITnwt2"
      },
      "source": [
        "mdp = mean_dew_point(dp1, dp2, dp3, dp4)\n",
        "\n",
        "dp_df = pd.DataFrame()\n",
        "\n",
        "dp_df['lon'] = df['lon']\n",
        "dp_df['lat'] = df['lat']\n",
        "dp_df['dew_point'] = mdp\n",
        "\n",
        "dp_df.to_csv('dew_point_' + DATE + '.csv')"
      ],
      "id": "eyzv0HITnwt2",
      "execution_count": null,
      "outputs": []
    },
    {
      "cell_type": "markdown",
      "metadata": {
        "id": "yB85EXK-3dJE"
      },
      "source": [
        "#CONCAT FEATURES DATAFRAME"
      ],
      "id": "yB85EXK-3dJE"
    },
    {
      "cell_type": "markdown",
      "metadata": {
        "id": "Vg995ADg4D7J"
      },
      "source": [
        "##Load lon lat to df"
      ],
      "id": "Vg995ADg4D7J"
    },
    {
      "cell_type": "code",
      "metadata": {
        "id": "0Lh1vsNhoJCI"
      },
      "source": [
        "final_df = pd.DataFrame()\n",
        "feat_df = pd.read_csv('HPBL_' + DATE +'.csv')\n",
        "\n",
        "final_df['lon'] = feat_df['lon']\n",
        "final_df['lat'] = feat_df['lat']"
      ],
      "id": "0Lh1vsNhoJCI",
      "execution_count": null,
      "outputs": []
    },
    {
      "cell_type": "markdown",
      "metadata": {
        "id": "TzUfHfSm48Dw"
      },
      "source": [
        "##Concat feature columns"
      ],
      "id": "TzUfHfSm48Dw"
    },
    {
      "cell_type": "code",
      "metadata": {
        "id": "ZSKZFNFn46hI"
      },
      "source": [
        "features = ['HPBL', 'PRESSURE', 'RH', 'TEMP', 'WINDSPEED', 'dew_point', 'population_dens', 'road_dens']\n",
        "\n",
        "for feature in features:\n",
        "  feat_df = pd.read_csv(feature + '_' + DATE + '.csv')\n",
        "  final_df[feature] = feat_df[feature]"
      ],
      "id": "ZSKZFNFn46hI",
      "execution_count": null,
      "outputs": []
    },
    {
      "cell_type": "markdown",
      "metadata": {
        "id": "2FBJqV_c6Dst"
      },
      "source": [
        "##Add time feature columns"
      ],
      "id": "2FBJqV_c6Dst"
    },
    {
      "cell_type": "code",
      "metadata": {
        "id": "5TtPGF4r6C7e"
      },
      "source": [
        "time = pd.to_datetime(DATE, format='%Y%m%d', errors='ignore')"
      ],
      "id": "5TtPGF4r6C7e",
      "execution_count": null,
      "outputs": []
    },
    {
      "cell_type": "code",
      "metadata": {
        "id": "NnGICJuI5BwH"
      },
      "source": [
        "final_df['year'] = time.year\n",
        "final_df['month'] = time.month\n",
        "final_df['day'] = time.day\n",
        "final_df['quarter'] = time.quarter\n",
        "final_df['weekday'] = time.weekday()"
      ],
      "id": "NnGICJuI5BwH",
      "execution_count": null,
      "outputs": []
    },
    {
      "cell_type": "markdown",
      "metadata": {
        "id": "dgNT8vnB7YVr"
      },
      "source": [
        "##Concat landcover feature"
      ],
      "id": "dgNT8vnB7YVr"
    },
    {
      "cell_type": "code",
      "metadata": {
        "id": "iTh_dQpc7M1T"
      },
      "source": [
        "land_df = pd.read_csv(DIR + 'landcover.csv')"
      ],
      "id": "iTh_dQpc7M1T",
      "execution_count": null,
      "outputs": []
    },
    {
      "cell_type": "code",
      "metadata": {
        "id": "rg7z8EzI7jS2"
      },
      "source": [
        "final_df['water'] = land_df['water']\n",
        "final_df['agri'] = land_df['agri']\n",
        "final_df['urban'] = land_df['urban']\n",
        "final_df['forest'] = land_df['forest']"
      ],
      "id": "rg7z8EzI7jS2",
      "execution_count": null,
      "outputs": []
    },
    {
      "cell_type": "markdown",
      "metadata": {
        "id": "XJxM9uKN8D-3"
      },
      "source": [
        "#TO FINAL CSV"
      ],
      "id": "XJxM9uKN8D-3"
    },
    {
      "cell_type": "code",
      "metadata": {
        "id": "PpvQ0DN_7xCF"
      },
      "source": [
        "file_name = DATE + '.csv'\n",
        "final_df.to_csv(file_name)"
      ],
      "id": "PpvQ0DN_7xCF",
      "execution_count": null,
      "outputs": []
    },
    {
      "cell_type": "markdown",
      "metadata": {
        "id": "UZ-cXox-fAR7"
      },
      "source": [
        "#Satellite NO2"
      ],
      "id": "UZ-cXox-fAR7"
    },
    {
      "cell_type": "code",
      "metadata": {
        "id": "SSqgjyqPfCSz"
      },
      "source": [
        ""
      ],
      "id": "SSqgjyqPfCSz",
      "execution_count": null,
      "outputs": []
    }
  ]
}